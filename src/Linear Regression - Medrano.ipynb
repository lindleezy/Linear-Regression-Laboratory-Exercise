{
 "cells": [
  {
   "cell_type": "code",
   "execution_count": 5,
   "metadata": {
    "ExecuteTime": {
     "end_time": "2020-09-29T11:43:24.019025Z",
     "start_time": "2020-09-29T11:43:24.014039Z"
    }
   },
   "outputs": [],
   "source": [
    "import numpy as np\n",
    "import pandas as pd\n",
    "import matplotlib.pyplot as plt"
   ]
  },
  {
   "cell_type": "code",
   "execution_count": 9,
   "metadata": {
    "ExecuteTime": {
     "end_time": "2020-09-29T11:43:44.203127Z",
     "start_time": "2020-09-29T11:43:44.190151Z"
    }
   },
   "outputs": [],
   "source": [
    "class LinearRegression:\n",
    "    \n",
    "    def __init__(self, file_name = \"\", alpha = 0.01, tolerance = 0.000001, max_iter =  1000000):\n",
    "        self.file_name = file_name\n",
    "        self.alpha = alpha\n",
    "        self.tolerance = tolerance\n",
    "        self.max_iter = max_iter\n",
    "        \n",
    "        #preparing the data\n",
    "        self.data = pd.read_csv(self.file_name) #read csv file\n",
    "        self.x = self.data.iloc[:,:-1] #separate all x features \n",
    "        ones = pd.DataFrame(np.ones(self.data.y.shape[0])) #make x_0 = 1 \n",
    "        self.x = pd.concat([ones,self.x], axis=1) #add x_0 to the x features\n",
    "        self.x = np.asmatrix(self.x) #\n",
    "        self.y = np.asmatrix(self.data.y).T #\n",
    "        \n",
    "        #generating a random theta\n",
    "        self.theta = np.asmatrix((2*np.random.rand(self.x.shape[1]))-1).T\n",
    "        \n",
    "        self.h = None\n",
    "        self.hy_diff = None\n",
    "        self.j = None\n",
    "        self.gradient = None\n",
    "        \n",
    "        #make an initial list where you append J\n",
    "        self.cost = []\n",
    "        return\n",
    "    \n",
    "    # Compute hypothesis function \n",
    "    def eval_h(self):\n",
    "        self.h = np.dot(self.x,self.theta)\n",
    "    \n",
    "    # Compute cost function \n",
    "    def eval_j(self):\n",
    "        self.hy_diff = self.h - self.y\n",
    "        self.j = (1/(2*self.y.shape[0]))* np.dot(self.hy_diff.T, self.hy_diff)[0,0]\n",
    "        \n",
    "    # Compute the gradient of J\n",
    "    def gradient_j(self):\n",
    "        self.gradient = (1/self.y.shape[0])* np.dot(self.x.T, self.hy_diff)\n",
    "     \n",
    "    # Update equation for gradient descent\n",
    "    def update_theta(self):\n",
    "        self.theta = self.theta - self.alpha * self.gradient\n",
    "    \n",
    "    #Initiate regression\n",
    "    def regression(self):\n",
    "        for i in range(int(self.max_iter)):\n",
    "            self.eval_h()\n",
    "            self.eval_j()\n",
    "            self.cost.append(self.j)\n",
    "            self.gradient_j()\n",
    "            self.update_theta()\n",
    "            if i>0 and abs(self.cost[i]-self.cost[i-1])<= self.tolerance:\n",
    "                print(\"Ending at iteration:\", i+1)\n",
    "                break\n",
    "    \n",
    "    #plot results\n",
    "    def graph(self,label=\"\"):\n",
    "        x = np.arange(0,len(self.cost),1)\n",
    "        y = np.array(self.cost)\n",
    "        plt.xlabel('Training iterations')\n",
    "        plt.ylabel('Cost function')\n",
    "        plt.grid()\n",
    "        plt.plot(x, y, label=label)\n",
    "        plt.show"
   ]
  },
  {
   "cell_type": "markdown",
   "metadata": {},
   "source": [
    "## PART I. MODEL DEVELOPMENT\n",
    "\n",
    "In this laboratory exercise, you will make a linear regression model that can be used to fit data of any dimension (e.g. # of features and # of samples). As classes enable you to easily share data among different functions, you are encouraged to use them. To aid in the model development, use the data in “number1.csv.” Answer the following questions. \n"
   ]
  },
  {
   "cell_type": "markdown",
   "metadata": {},
   "source": [
    "### 1.\tWhat are the parameter values, θ? "
   ]
  },
  {
   "cell_type": "code",
   "execution_count": 10,
   "metadata": {
    "ExecuteTime": {
     "end_time": "2020-09-29T11:43:45.946591Z",
     "start_time": "2020-09-29T11:43:45.025080Z"
    },
    "scrolled": false
   },
   "outputs": [
    {
     "name": "stdout",
     "output_type": "stream",
     "text": [
      "Ending at iteration: 43695\n",
      "parameter values: [[0.06072819]\n",
      " [0.79151681]\n",
      " [1.20755193]]\n"
     ]
    },
    {
     "data": {
      "image/png": "[encoded data removed]",
      "text/plain": [
       "<Figure size 432x288 with 1 Axes>"
      ]
     },
     "metadata": {
      "needs_background": "light"
     },
     "output_type": "display_data"
    }
   ],
   "source": [
    "#Part I.1.\n",
    "linregtrain = LinearRegression('number1.csv', alpha=0.0001)\n",
    "linregtrain.regression()\n",
    "linregtrain.graph()\n",
    "print('parameter values:', linregtrain.theta)"
   ]
  },
  {
   "cell_type": "markdown",
   "metadata": {},
   "source": [
    "### 2. Try different learning rate values and compare the behavior of the cost as a function of iteration by plotting them (submit plots). What do you observe?\n",
    "\n",
    "Plots are submitted in the doc file for this exercise."
   ]
  },
  {
   "cell_type": "code",
   "execution_count": 11,
   "metadata": {
    "ExecuteTime": {
     "end_time": "2020-09-29T11:43:47.486588Z",
     "start_time": "2020-09-29T11:43:47.018161Z"
    }
   },
   "outputs": [
    {
     "name": "stdout",
     "output_type": "stream",
     "text": [
      "Ending at iteration: 639\n",
      "Ending at iteration: 75\n",
      "Ending at iteration: 8566\n",
      "Ending at iteration: 5571\n"
     ]
    },
    {
     "data": {
      "text/plain": [
       "<matplotlib.legend.Legend at 0x227d8494ec8>"
      ]
     },
     "execution_count": 11,
     "metadata": {},
     "output_type": "execute_result"
    },
    {
     "data": {
      "image/png": "[encoded data removed]",
      "text/plain": [
       "<Figure size 432x288 with 1 Axes>"
      ]
     },
     "metadata": {
      "needs_background": "light"
     },
     "output_type": "display_data"
    }
   ],
   "source": [
    "alpha = [0.01, 0.001, 0.0001,0.00001]\n",
    "for i in alpha:\n",
    "    linregtrain = LinearRegression('number1.csv',alpha = i)\n",
    "    linregtrain.regression()\n",
    "    linregtrain.graph(label=i)\n",
    "plt.legend(loc='best')"
   ]
  },
  {
   "cell_type": "markdown",
   "metadata": {},
   "source": [
    "### 3.\tUsing the trained model, predict the value of y at x1 = 13 and x2 = 15"
   ]
  },
  {
   "cell_type": "code",
   "execution_count": 5,
   "metadata": {},
   "outputs": [
    {
     "name": "stdout",
     "output_type": "stream",
     "text": [
      "Using theta obtained from I.1: [[ 0.54703345]\n",
      " [-0.04189827]\n",
      " [ 1.87834252]]\n",
      "y value is: 28.177493686338696\n"
     ]
    }
   ],
   "source": [
    "#Part I.3. \n",
    "x = np.asmatrix([[1., 13., 15.]])\n",
    "y = np.dot(x, linregtrain.theta)[0,0]\n",
    "print('Using theta obtained from I.1:',linregtrain.theta)\n",
    "print(\"y value is:\", y)"
   ]
  },
  {
   "cell_type": "markdown",
   "metadata": {},
   "source": [
    "### PART II. APPLICATION\n",
    "\n",
    "A lost alien is stuck on an unknown planet in the Solar System. In order for him to call for rescue, he must first know where he is. He does this by measuring the surface gravitational acceleration by throwing a stone and taking note of its height as a function of time. Use the code developed in part I to help him find out where he is. His data, which contains time in seconds and the corresponding height in meters, are in “projectile_data.csv.” A list of the planets and their corresponding surface gravitational acceleration are shown below.\n",
    "\n",
    "\n",
    "| Planet | Surface gravitational acceleration ($m/s^2$) | \n",
    "| --- | --- |\n",
    "| Jupiter | 24.92 | \n",
    "| Neptune | 11.15 | \n",
    "| Saturn | 10.44 | \n",
    "| Pluto | 0.58 | \n",
    "| Uranus | 8.87 | \n",
    "| Mars | 3.71"
   ]
  },
  {
   "cell_type": "markdown",
   "metadata": {},
   "source": [
    "In a projectile motion <br>\n",
    "<center>$y=y_{0}+v_{0}t + \\frac{1}{2}gt^{2}$ <br></center>\n",
    "Applying this to our hypothesis function: \n",
    "<center>$x_{0} = 0$</center><br>\n",
    "<center>$x_{1} = t$</center><br>\n",
    "    <center>$x_{2} = t^{2}$</center><br>\n",
    "where \n",
    "$\\theta_{1} = v$ and $\\theta_{2}$ should be equal to $\\frac{1}{2}g$. To get acceleration, first add $t^{2}$ dataframe.\n",
    "    \n"
   ]
  },
  {
   "cell_type": "markdown",
   "metadata": {},
   "source": [
    "### 1.\tDid the training/fitting converge? If not, what can you do to make it converge?"
   ]
  },
  {
   "cell_type": "code",
   "execution_count": 6,
   "metadata": {},
   "outputs": [
    {
     "name": "stderr",
     "output_type": "stream",
     "text": [
      "C:\\Users\\Guest1\\Anaconda3\\lib\\site-packages\\ipykernel_launcher.py:54: RuntimeWarning: invalid value encountered in double_scalars\n"
     ]
    },
    {
     "data": {
      "image/png": "[encoded data removed]",
      "text/plain": [
       "<Figure size 432x288 with 1 Axes>"
      ]
     },
     "metadata": {
      "needs_background": "light"
     },
     "output_type": "display_data"
    }
   ],
   "source": [
    "# Create t^2 data.\n",
    "linregtest = LinearRegression('projectile_data.csv', alpha=0.01)\n",
    "tsquared = linregtest.data.t**2\n",
    "\n",
    "x = pd.DataFrame(linregtest.x)\n",
    "\n",
    "#add the t^2 data to the test dataset\n",
    "x = pd.concat([x,tsquared], axis=1)\n",
    "x = np.asmatrix(x)\n",
    "linregtest.x = x\n",
    "\n",
    "#Generate random theta\n",
    "linregtest.theta = np.asmatrix((2*np.random.rand(3))-1).T\n",
    "linregtest.theta\n",
    "\n",
    "#performing the regression\n",
    "linregtest.regression()\n",
    "linregtest.graph()"
   ]
  },
  {
   "cell_type": "markdown",
   "metadata": {},
   "source": [
    "Since with alpha = 0.01, the fitting doesn't converge, it is imperative for us to try lowering the learning rate in order to make the fitting converge."
   ]
  },
  {
   "cell_type": "code",
   "execution_count": 7,
   "metadata": {},
   "outputs": [
    {
     "name": "stdout",
     "output_type": "stream",
     "text": [
      "Ending at iteration: 187020\n"
     ]
    },
    {
     "data": {
      "image/png": "[encoded data removed]",
      "text/plain": [
       "<Figure size 432x288 with 1 Axes>"
      ]
     },
     "metadata": {
      "needs_background": "light"
     },
     "output_type": "display_data"
    }
   ],
   "source": [
    "#Create t^2 data.\n",
    "linregtest = LinearRegression('projectile_data.csv', alpha=0.0001)\n",
    "tsquared = linregtest.data.t**2\n",
    "\n",
    "x = pd.DataFrame(linregtest.x)\n",
    "\n",
    "#add the t^2 data to the test dataset\n",
    "x = pd.concat([x,tsquared], axis=1)\n",
    "x = np.asmatrix(x)\n",
    "linregtest.x = x\n",
    "\n",
    "#Generate random theta\n",
    "linregtest.theta = np.asmatrix((np.random.rand(3))).T\n",
    "linregtest.theta\n",
    "\n",
    "#performing the regression\n",
    "linregtest.regression()\n",
    "linregtest.graph()"
   ]
  },
  {
   "cell_type": "markdown",
   "metadata": {},
   "source": [
    "### 2.\tOn which planet is he located?"
   ]
  },
  {
   "cell_type": "markdown",
   "metadata": {},
   "source": [
    "Use the theta obtained to get the surface gravitational acceleration of the planet. <br>\n",
    "Since <br>\n",
    "<center>$\\theta_{2} = \\frac{1}{2}g$</center>\n",
    "<center>$g= 2 \\theta_{2}$</center>"
   ]
  },
  {
   "cell_type": "code",
   "execution_count": 8,
   "metadata": {},
   "outputs": [
    {
     "data": {
      "text/plain": [
       "-8.814168839140265"
      ]
     },
     "execution_count": 8,
     "metadata": {},
     "output_type": "execute_result"
    }
   ],
   "source": [
    "acceleration = 2*linregtest.theta[2,0]\n",
    "acceleration"
   ]
  },
  {
   "cell_type": "markdown",
   "metadata": {},
   "source": [
    "Comparing the results obtained with the table on Part II, we get that our $g$ obtained is closest to that of the acceleration of Uranus, thus the lost alien is in Uranus."
   ]
  },
  {
   "cell_type": "markdown",
   "metadata": {},
   "source": [
    "### 3.Try different learning rate values and compare the behavior of the cost as a function of iteration by plotting them (submit plots). What do you observe?  \n",
    "\n",
    "Plots are submitted in the doc file for this exercise."
   ]
  },
  {
   "cell_type": "code",
   "execution_count": 9,
   "metadata": {},
   "outputs": [
    {
     "name": "stdout",
     "output_type": "stream",
     "text": [
      "Ending at iteration: 26704\n",
      "Ending at iteration: 221345\n"
     ]
    },
    {
     "data": {
      "text/plain": [
       "<matplotlib.legend.Legend at 0x202ad18aa48>"
      ]
     },
     "execution_count": 9,
     "metadata": {},
     "output_type": "execute_result"
    },
    {
     "data": {
      "image/png": "[encoded data removed]",
      "text/plain": [
       "<Figure size 432x288 with 1 Axes>"
      ]
     },
     "metadata": {
      "needs_background": "light"
     },
     "output_type": "display_data"
    }
   ],
   "source": [
    "alpha = [0.001, 0.0001,0.00001]\n",
    "for i in alpha:\n",
    "    linregtest = LinearRegression('projectile_data.csv',alpha = i)\n",
    "    linregtest.regression()\n",
    "    linregtest.graph(label=i)\n",
    "plt.legend(loc='best')"
   ]
  }
 ],
 "metadata": {
  "anaconda-cloud": {},
  "kernelspec": {
   "display_name": "Python 3",
   "language": "python",
   "name": "python3"
  },
  "language_info": {
   "codemirror_mode": {
    "name": "ipython",
    "version": 3
   },
   "file_extension": ".py",
   "mimetype": "text/x-python",
   "name": "python",
   "nbconvert_exporter": "python",
   "pygments_lexer": "ipython3",
   "version": "3.7.7"
  }
 },
 "nbformat": 4,
 "nbformat_minor": 2
}
